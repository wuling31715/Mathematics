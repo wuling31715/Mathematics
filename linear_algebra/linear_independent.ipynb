{
 "cells": [
  {
   "cell_type": "code",
   "execution_count": 311,
   "metadata": {
    "collapsed": true
   },
   "outputs": [],
   "source": [
    "import sympy as sp\n",
    "import random"
   ]
  },
  {
   "cell_type": "markdown",
   "metadata": {},
   "source": [
    "# 線性獨立\n",
    "定義：$ \\forall a_{i} = 0 $ s.t. $ a_{1}v_{1} + a_{2}v_{2} ... +a_{i}v_{i} = 0 $"
   ]
  },
  {
   "cell_type": "code",
   "execution_count": 341,
   "metadata": {
    "collapsed": false
   },
   "outputs": [
    {
     "name": "stdout",
     "output_type": "stream",
     "text": [
      "[[-4, 3, 0], [-4, 9, 0]]\n"
     ]
    },
    {
     "data": {
      "text/plain": [
       "{x: 0, y: 0}"
      ]
     },
     "execution_count": 341,
     "metadata": {},
     "output_type": "execute_result"
    }
   ],
   "source": [
    "row_1 = [random.randint(-10,10), random.randint(-10,10), 0]\n",
    "row_2 = [random.randint(-10,10), random.randint(-10,10), 0]\n",
    "matrix = [row_1, row_2]\n",
    "print(matrix)\n",
    "sp.solve_linear_system_LU(Matrix(matrix), [x, y])"
   ]
  },
  {
   "cell_type": "markdown",
   "metadata": {},
   "source": [
    "$\n",
    "\\Rightarrow\n",
    "\\begin{cases}\n",
    "-4x + 3y = 0 \\\\ \n",
    "-4x + 9y = 0 \\\\\n",
    "\\end{cases}\n",
    "$"
   ]
  },
  {
   "cell_type": "markdown",
   "metadata": {},
   "source": [
    "$\n",
    "\\Rightarrow\n",
    "x\n",
    "\\begin{bmatrix}\n",
    "-4  \\\\\n",
    "-4 \n",
    "\\end{bmatrix}\n",
    "+y\n",
    "\\begin{bmatrix}\n",
    "3 \\\\\n",
    "9 \n",
    "\\end{bmatrix}\n",
    "=\n",
    "\\begin{bmatrix}\n",
    "0 \\\\\n",
    "0 \n",
    "\\end{bmatrix}\n",
    "$"
   ]
  },
  {
   "cell_type": "markdown",
   "metadata": {},
   "source": [
    "$\n",
    "\\Rightarrow\n",
    "0\n",
    "\\begin{bmatrix}\n",
    "-4  \\\\\n",
    "-4  \\\\\n",
    "\\end{bmatrix}\n",
    "+0\n",
    "\\begin{bmatrix}\n",
    "3 \\\\\n",
    "9 \\\\\n",
    "\\end{bmatrix}\n",
    "=\n",
    "\\begin{bmatrix}\n",
    "0 \\\\\n",
    "0 \\\\\n",
    "\\end{bmatrix}\n",
    "$"
   ]
  },
  {
   "cell_type": "markdown",
   "metadata": {},
   "source": [
    "$\\Rightarrow$ 線性獨立"
   ]
  },
  {
   "cell_type": "markdown",
   "metadata": {},
   "source": [
    "# 線性相依\n",
    "定義：$ \\exists a_{i} \\ne 0 $ s.t. $ a_{1}v_{1} + a_{2}v_{2} ... +a_{i}v_{i} = 0 $"
   ]
  },
  {
   "cell_type": "code",
   "execution_count": 338,
   "metadata": {
    "collapsed": false
   },
   "outputs": [
    {
     "name": "stdout",
     "output_type": "stream",
     "text": [
      "[[-3, 4, 10], [-2, 2, 4]]\n"
     ]
    },
    {
     "data": {
      "text/plain": [
       "{x: 2, y: 4}"
      ]
     },
     "execution_count": 338,
     "metadata": {},
     "output_type": "execute_result"
    }
   ],
   "source": [
    "row_1 = [random.randint(-10,10), random.randint(-10,10), random.randint(-10,10)]\n",
    "row_2 = [random.randint(-10,10), random.randint(-10,10), random.randint(-10,10)]\n",
    "matrix = [row_1, row_2]\n",
    "print(matrix)\n",
    "sp.solve_linear_system_LU(Matrix(matrix), [x, y])"
   ]
  },
  {
   "cell_type": "markdown",
   "metadata": {},
   "source": [
    "$\n",
    "\\begin{cases}\n",
    "-3x + 4y = 10 \\\\ \n",
    "-2x + 2y = 4 \\\\\n",
    "\\end{cases}\n",
    "$"
   ]
  },
  {
   "cell_type": "markdown",
   "metadata": {},
   "source": [
    "$\n",
    "\\Rightarrow\n",
    "x\n",
    "\\begin{bmatrix}\n",
    "-3  \\\\\n",
    "-2  \\\\\n",
    "\\end{bmatrix}\n",
    "+y\n",
    "\\begin{bmatrix}\n",
    "4 \\\\\n",
    "2 \\\\\n",
    "\\end{bmatrix}\n",
    "=\n",
    "\\begin{bmatrix}\n",
    "10 \\\\\n",
    "4 \\\\\n",
    "\\end{bmatrix}\n",
    "$"
   ]
  },
  {
   "cell_type": "markdown",
   "metadata": {},
   "source": [
    "$\n",
    "\\Rightarrow\n",
    "2\n",
    "\\begin{bmatrix}\n",
    "-3  \\\\\n",
    "-2  \\\\\n",
    "\\end{bmatrix}\n",
    "+4\n",
    "\\begin{bmatrix}\n",
    "4 \\\\\n",
    "2 \\\\\n",
    "\\end{bmatrix}\n",
    "=\n",
    "\\begin{bmatrix}\n",
    "10 \\\\\n",
    "4 \\\\\n",
    "\\end{bmatrix}\n",
    "$"
   ]
  },
  {
   "cell_type": "markdown",
   "metadata": {},
   "source": [
    "$\n",
    "\\Rightarrow\n",
    "2\n",
    "\\begin{bmatrix}\n",
    "-3  \\\\\n",
    "-2  \\\\\n",
    "\\end{bmatrix}\n",
    "+4\n",
    "\\begin{bmatrix}\n",
    "4 \\\\\n",
    "2 \\\\\n",
    "\\end{bmatrix}\n",
    "-1\n",
    "\\begin{bmatrix}\n",
    "10 \\\\\n",
    "4 \\\\\n",
    "\\end{bmatrix}\n",
    "=\n",
    "\\begin{bmatrix}\n",
    "0 \\\\\n",
    "0 \\\\\n",
    "\\end{bmatrix}\n",
    "$"
   ]
  },
  {
   "cell_type": "markdown",
   "metadata": {},
   "source": [
    "$\n",
    "\\Rightarrow\n",
    "$\n",
    "線性相依"
   ]
  }
 ],
 "metadata": {
  "kernelspec": {
   "display_name": "Python 3",
   "language": "python",
   "name": "python3"
  },
  "language_info": {
   "codemirror_mode": {
    "name": "ipython",
    "version": 3
   },
   "file_extension": ".py",
   "mimetype": "text/x-python",
   "name": "python",
   "nbconvert_exporter": "python",
   "pygments_lexer": "ipython3",
   "version": "3.6.0"
  }
 },
 "nbformat": 4,
 "nbformat_minor": 2
}
