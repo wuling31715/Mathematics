{
 "cells": [
  {
   "cell_type": "markdown",
   "metadata": {},
   "source": [
    "# RSA 原理與實作"
   ]
  },
  {
   "cell_type": "code",
   "execution_count": 1,
   "metadata": {},
   "outputs": [],
   "source": [
    "%matplotlib inline\n",
    "import matplotlib.pyplot as plt\n",
    "import numpy as np\n",
    "import sympy as sp\n",
    "import binascii\n",
    "import random"
   ]
  },
  {
   "cell_type": "markdown",
   "metadata": {},
   "source": [
    "### 轉碼"
   ]
  },
  {
   "cell_type": "markdown",
   "metadata": {},
   "source": [
    "* UTF-8 → Decimal "
   ]
  },
  {
   "cell_type": "code",
   "execution_count": 2,
   "metadata": {},
   "outputs": [],
   "source": [
    "def string_to_int(string):\n",
    "    byte = string.encode()               # string to byte\n",
    "    hexadecimal = binascii.hexlify(byte) # byte to hex\n",
    "    decimal = int(hexadecimal, 16)       # hex to dec\n",
    "    return decimal"
   ]
  },
  {
   "cell_type": "markdown",
   "metadata": {},
   "source": [
    "* Decimal  → UTF-8"
   ]
  },
  {
   "cell_type": "code",
   "execution_count": 3,
   "metadata": {},
   "outputs": [],
   "source": [
    "def int_to_string(int):\n",
    "    hexadecimal = hex(int)               # dec to hex\n",
    "    byte = hexadecimal[2:].encode()      # hex to byte (type)\n",
    "    byte = binascii.unhexlify(byte)      # hex to byte (coding)\n",
    "    string = byte.decode('utf-8')        # byte to utf-8\n",
    "    return string"
   ]
  },
  {
   "cell_type": "code",
   "execution_count": 4,
   "metadata": {},
   "outputs": [
    {
     "name": "stdout",
     "output_type": "stream",
     "text": [
      "27086628833817823194713031788698839469377765346622593\n",
      "Hello World! 你好！\n"
     ]
    }
   ],
   "source": [
    "string = 'Hello World! 你好！'\n",
    "integer = string_to_int(string)\n",
    "print(integer)\n",
    "message = int_to_string(integer)\n",
    "print(message)"
   ]
  },
  {
   "cell_type": "markdown",
   "metadata": {},
   "source": [
    "### 質因數分解"
   ]
  },
  {
   "cell_type": "code",
   "execution_count": 5,
   "metadata": {},
   "outputs": [],
   "source": [
    "def factorize(x):\n",
    "    is_prime = True\n",
    "    for i in sp.primerange(0, x ** 0.5 + 1):\n",
    "        if x % i == 0:\n",
    "            j = x // i\n",
    "            is_prime = False\n",
    "            return [i, j]\n",
    "    if is_prime:\n",
    "        return [0, x]"
   ]
  },
  {
   "cell_type": "code",
   "execution_count": 6,
   "metadata": {},
   "outputs": [
    {
     "name": "stdout",
     "output_type": "stream",
     "text": [
      "[2, 512]\n"
     ]
    }
   ],
   "source": [
    "print(factorize(2 ** 10))"
   ]
  },
  {
   "cell_type": "code",
   "execution_count": 7,
   "metadata": {},
   "outputs": [],
   "source": [
    "def factorize2(x):\n",
    "    fact_list = list()\n",
    "    if sp.isprime(x) == False:\n",
    "        fact = 1\n",
    "        while fact != 0:\n",
    "            fact, x = factorize(x)    \n",
    "            if fact != 0:\n",
    "                fact_list.append(fact)\n",
    "        if x != 1:\n",
    "            fact_list.append(x)\n",
    "    else:\n",
    "        fact_list.append(x)\n",
    "    return fact_list"
   ]
  },
  {
   "cell_type": "code",
   "execution_count": 8,
   "metadata": {},
   "outputs": [
    {
     "name": "stdout",
     "output_type": "stream",
     "text": [
      "[2, 2, 2, 2, 2, 2, 2, 2, 2, 2]\n"
     ]
    }
   ],
   "source": [
    "print(factorize2(2 ** 10))"
   ]
  },
  {
   "cell_type": "markdown",
   "metadata": {},
   "source": [
    "### 最大公因數"
   ]
  },
  {
   "cell_type": "code",
   "execution_count": 9,
   "metadata": {},
   "outputs": [],
   "source": [
    "def greatest_common_divisor(a, b):\n",
    "    if b == 0:\n",
    "        return a\n",
    "    else:\n",
    "        return greatest_common_divisor(b, a % b)"
   ]
  },
  {
   "cell_type": "markdown",
   "metadata": {},
   "source": [
    "### 歐拉函數"
   ]
  },
  {
   "cell_type": "code",
   "execution_count": 10,
   "metadata": {},
   "outputs": [],
   "source": [
    "def euler_function(p, q):\n",
    "    return (p - 1) * (q - 1)"
   ]
  },
  {
   "cell_type": "markdown",
   "metadata": {},
   "source": [
    "### 加密函數"
   ]
  },
  {
   "cell_type": "code",
   "execution_count": 11,
   "metadata": {},
   "outputs": [],
   "source": [
    "def encode(plaintext, public_key, n):\n",
    "    cyphertext = (plaintext ** public_key) % n    \n",
    "    return cyphertext"
   ]
  },
  {
   "cell_type": "markdown",
   "metadata": {},
   "source": [
    "### 解密函數"
   ]
  },
  {
   "cell_type": "code",
   "execution_count": 12,
   "metadata": {},
   "outputs": [],
   "source": [
    "def decode(cyphertext, private_key, n):\n",
    "    plaintext = (cyphertext ** private_key) % n\n",
    "    return plaintext"
   ]
  },
  {
   "cell_type": "code",
   "execution_count": 13,
   "metadata": {},
   "outputs": [],
   "source": [
    "def decode2(cyphertext, private_key_fact_list, n):\n",
    "    for i in private_key_fact_list:\n",
    "        cyphertext = (cyphertext ** i) % n\n",
    "    plaintext = cyphertext\n",
    "    return plaintext"
   ]
  },
  {
   "cell_type": "markdown",
   "metadata": {},
   "source": [
    "### 產生鑰匙"
   ]
  },
  {
   "cell_type": "code",
   "execution_count": 14,
   "metadata": {},
   "outputs": [],
   "source": [
    "def generate_key():\n",
    "    public_key, private_key = 0, 0\n",
    "    prime = list(sp.primerange((10 ** 3), (10 ** 4)))\n",
    "    while (public_key == 0) or (private_key == 0):\n",
    "        p, q = random.choices(prime, k=2)\n",
    "        n = p * q\n",
    "        o = euler_function(p, q)\n",
    "        public_key, private_key = factorize(o * 10 + 1)\n",
    "        gcd = greatest_common_divisor(public_key, o)\n",
    "        remainder = public_key * private_key % o\n",
    "        print('gcd: %i' % gcd)\n",
    "        print('remainder: %i' % remainder)\n",
    "        if gcd == 1 and remainder == 1:\n",
    "            print('generate key succes\\n')\n",
    "            break\n",
    "        else:\n",
    "            print('generate key fail\\n')\n",
    "    return p, q, public_key, private_key, n"
   ]
  },
  {
   "cell_type": "code",
   "execution_count": 18,
   "metadata": {},
   "outputs": [
    {
     "name": "stdout",
     "output_type": "stream",
     "text": [
      "gcd: 1\n",
      "remainder: 1\n",
      "generate key succes\n",
      "\n",
      "p: 6353\n",
      "q: 6073\n",
      "public key: 7\n",
      "private key: 55099063 = [211, 223, 1171]\n",
      "n: 38581769\n"
     ]
    }
   ],
   "source": [
    "p, q, public_key, private_key, n = generate_key()\n",
    "private_key_fact_list = factorize2(private_key) # 分解 private key，避免解密時間過長\n",
    "print('p: %i' % p)\n",
    "print('q: %i' % q)\n",
    "print('public key: %i' % public_key)\n",
    "print('private key: %i = %s' % (private_key, str(private_key_fact_list)))\n",
    "print('n: %i' % n)"
   ]
  },
  {
   "cell_type": "markdown",
   "metadata": {},
   "source": [
    "### 加密"
   ]
  },
  {
   "cell_type": "code",
   "execution_count": 19,
   "metadata": {},
   "outputs": [
    {
     "name": "stdout",
     "output_type": "stream",
     "text": [
      "Hello World! 你好！\n",
      "plain text: [72, 101, 108, 108, 111, 32, 87, 111, 114, 108, 100, 33, 32, 14990752, 15050173, 15711361]\n",
      "cypher text: [8954361, 7698516, 9819119, 9819119, 31437685, 21963958, 32850738, 31437685, 32139848, 9819119, 28674207, 24170001, 21963958, 10218399, 16696036, 6748821]\n"
     ]
    }
   ],
   "source": [
    "plaintext = input()\n",
    "plaintext_list = list()\n",
    "cyphertext_list = list()\n",
    "for i in plaintext:\n",
    "    integer = string_to_int(i)\n",
    "    plaintext_list.append(integer)\n",
    "    cyphertext = encode(integer, public_key, n)\n",
    "    cyphertext_list.append(cyphertext)\n",
    "print('plain text: %s' % str(plaintext_list))\n",
    "print('cypher text: %s' % str(cyphertext_list))"
   ]
  },
  {
   "cell_type": "markdown",
   "metadata": {},
   "source": [
    "### 解密"
   ]
  },
  {
   "cell_type": "code",
   "execution_count": 20,
   "metadata": {},
   "outputs": [
    {
     "name": "stdout",
     "output_type": "stream",
     "text": [
      "Hello World! 你好！\n"
     ]
    }
   ],
   "source": [
    "message = ''\n",
    "for i in cyphertext_list:\n",
    "    plaintext = decode2(i, private_key_fact_list, n)\n",
    "    message += int_to_string(plaintext)\n",
    "print(message)"
   ]
  },
  {
   "cell_type": "code",
   "execution_count": null,
   "metadata": {},
   "outputs": [],
   "source": []
  }
 ],
 "metadata": {
  "kernelspec": {
   "display_name": "py3.6",
   "language": "python",
   "name": "py3.6"
  },
  "language_info": {
   "codemirror_mode": {
    "name": "ipython",
    "version": 3
   },
   "file_extension": ".py",
   "mimetype": "text/x-python",
   "name": "python",
   "nbconvert_exporter": "python",
   "pygments_lexer": "ipython3",
   "version": "3.6.0"
  }
 },
 "nbformat": 4,
 "nbformat_minor": 2
}
