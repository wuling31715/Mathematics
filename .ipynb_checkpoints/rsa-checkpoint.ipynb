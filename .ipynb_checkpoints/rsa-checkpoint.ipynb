{
 "cells": [
  {
   "cell_type": "markdown",
   "metadata": {},
   "source": [
    "# RSA 原理與實作"
   ]
  },
  {
   "cell_type": "code",
   "execution_count": 1,
   "metadata": {},
   "outputs": [],
   "source": [
    "%matplotlib inline\n",
    "import matplotlib.pyplot as plt\n",
    "import numpy as np\n",
    "import sympy as sp\n",
    "import binascii\n",
    "import random"
   ]
  },
  {
   "cell_type": "markdown",
   "metadata": {},
   "source": [
    "## （一）RSA 演算法"
   ]
  },
  {
   "cell_type": "markdown",
   "metadata": {},
   "source": [
    "1. 亂數生成兩相異質數 $ p, q $ "
   ]
  },
  {
   "cell_type": "markdown",
   "metadata": {},
   "source": [
    "2. 令\n",
    "$ \n",
    "\\begin{cases}\n",
    "n = p * q \\\\ \n",
    "\\phi(n) = \\phi(p) * \\phi(q) = (p - 1)(q - 1) \\textrm{（歐拉函數）}\\\\ \n",
    "\\end{cases}\n",
    "$"
   ]
  },
  {
   "cell_type": "markdown",
   "metadata": {},
   "source": [
    "3. \n",
    "$\n",
    "\\textrm{令 e 為加密鑰，e 須滿足}\n",
    "\\begin{cases}\n",
    "e < \\phi(n) \\\\ \n",
    "gcd(\\phi(n), e) = 1 \\\\ \n",
    "\\end{cases}\n",
    "$\n"
   ]
  },
  {
   "cell_type": "markdown",
   "metadata": {},
   "source": [
    "4. \n",
    "$ \n",
    "\\textrm{令 d 為解密鑰，d 須滿足：} \n",
    "e * d = \\phi(n)k + 1 , k \\in Z \n",
    "\\rightarrow d = \\frac{\\phi(n)k + 1}{e}\n",
    "$ "
   ]
  },
  {
   "cell_type": "markdown",
   "metadata": {},
   "source": [
    "5. 令 $ M $ 為明文， $ C $ 為密文 $ \\rightarrow $\n",
    "$ \\begin{cases}\n",
    "M ^ e \\textrm{ (mod n)} \\equiv C \\textrm{ 即可完成加密} \\\\ \n",
    "C ^ d \\textrm{ (mod n)} \\equiv M \\textrm{ 即可完成解密} \\\\ \n",
    "\\end{cases}\n",
    "$"
   ]
  },
  {
   "cell_type": "markdown",
   "metadata": {},
   "source": [
    "## （二）引理"
   ]
  },
  {
   "cell_type": "markdown",
   "metadata": {},
   "source": [
    "### 0. 算術基本定理"
   ]
  },
  {
   "cell_type": "markdown",
   "metadata": {},
   "source": [
    "每個大於 1 的自然數，若非質數，則可以寫為 2 個以上的質數乘積，且所有的質因數由小排到大後具唯一性。 "
   ]
  },
  {
   "cell_type": "markdown",
   "metadata": {},
   "source": [
    "$\n",
    "\\forall a \\in N, a > 1, \\exists \\prod_{i=1}^{n}p_i^{b_i}, \\forall p_i \\text{ are prime and }p_1 < p_2 < ... < p_n, b_i \\in Z ^ +\n",
    "$"
   ]
  },
  {
   "cell_type": "markdown",
   "metadata": {},
   "source": [
    "### 1. 歐幾里德演算法（輾轉相除法）"
   ]
  },
  {
   "cell_type": "markdown",
   "metadata": {},
   "source": [
    "$\n",
    "\\forall m , n, q, r \\in Z \\mbox{ , if } m = nq + r \\mbox{ , then: } \\\\ \n",
    "gcd(m,n) = gcd(n, r) \\\\\n",
    "$"
   ]
  },
  {
   "cell_type": "markdown",
   "metadata": {},
   "source": [
    "$ \n",
    "\\begin{cases}\n",
    "gcd(n, 0) & \\textrm{, if $n > 0$} \\\\ \n",
    "gcd(m, n) = gcd(m, r) & \\textrm{, if $m > n$} \\\\ \n",
    "\\end{cases}\n",
    "$"
   ]
  },
  {
   "cell_type": "markdown",
   "metadata": {},
   "source": [
    "$ \n",
    "\\textrm{證明： } gcd(m,n) = gcd(n, r) \\\\ \n",
    "\\textrm{令： } gcd(m,n) = g_1, gcd(n, r) = g_2 \\\\\n",
    "$"
   ]
  },
  {
   "cell_type": "markdown",
   "metadata": {},
   "source": [
    "$\n",
    "\\because g_1 | m \\textrm{ and } g_1 | n \\\\\n",
    "\\therefore g_1 | (m - nq) \\\\\n",
    "\\rightarrow g_1 | r \\\\\n",
    "\\because g_2 \\textrm{ is the greatest common divisor of } n, r\\\\\n",
    "\\therefore g_2 \\geq g_1 \\\\\n",
    "$"
   ]
  },
  {
   "cell_type": "markdown",
   "metadata": {},
   "source": [
    "$\n",
    "\\because g_2 | n \\textrm{ and } g_2 | r \\\\\n",
    "\\therefore g_2 | (nq + r) \\\\\n",
    "\\rightarrow g_2 | m \\\\\n",
    "\\because g_1 \\textrm{ is the greatest common divisor of } m, n\\\\\n",
    "\\therefore g_1 \\geq g_2 \\\\\n",
    "$"
   ]
  },
  {
   "cell_type": "markdown",
   "metadata": {},
   "source": [
    "$\n",
    "\\because g_2 \\geq g_1 \\textrm{ and } g_1 \\leq g_2 \\\\\n",
    "\\therefore g_1 = g_2 \\\\\n",
    "\\rightarrow gcd(m,n) = gcd(q,r) \\\\\n",
    "$"
   ]
  },
  {
   "cell_type": "markdown",
   "metadata": {},
   "source": [
    "### 2. 模反元素"
   ]
  },
  {
   "cell_type": "markdown",
   "metadata": {},
   "source": [
    "$\n",
    "\\text{定義：} \\forall a \\in Z, n \\in Z^+ , \\text{ if } \\exists x \\text{ st }a x \\equiv 1 \\text{ mod(n) } , x \\text{ 即為 a 在 n 的乘法反元素：} a ^ {-1} \\text{ mod(n) }\n",
    "$"
   ]
  },
  {
   "cell_type": "markdown",
   "metadata": {},
   "source": [
    "$\n",
    "\\text{證明：} \\forall a \\in Z, n \\in Z^+ , \\text{ if } gcd(a,n) = 1,\\text{ then } \\exists x \\text{ st }a x \\equiv 1 \\text{ mod(n) }\n",
    "$"
   ]
  },
  {
   "cell_type": "markdown",
   "metadata": {},
   "source": [
    "$\n",
    "\\because gcd(a, n) = 1 \\\\\n",
    "\\therefore \\exists x, y \\in Z \\text{ st } ax + ny \\equiv 1 \\text{ （由輾轉相除法推得） } \\\\ \n",
    "\\rightarrow ax + ny \\equiv 1 \\text{ ( mod n) } \\\\\n",
    "\\rightarrow ax \\equiv 1 \\text{ ( mod n) } \\\\\n",
    "\\rightarrow x \\equiv a ^ {-1} \\text{ ( mod n) } \\\\\n",
    "$"
   ]
  },
  {
   "cell_type": "markdown",
   "metadata": {},
   "source": [
    "### 3. 歐拉函數"
   ]
  },
  {
   "cell_type": "markdown",
   "metadata": {},
   "source": [
    "定義：$ \\phi(n): $ { $ 1, 2 ... n - 1 $ } 中與 n 互質的元素個素 "
   ]
  },
  {
   "cell_type": "markdown",
   "metadata": {},
   "source": [
    "$\n",
    "\\forall n \\in Z, n = p{_1}^{e_1} p{_2}^{e_2} p{_3}^{e_3}... p{_k}^{e_k} \\mbox{ ($\\forall i \\in Z, i\\leq k, p_i$ is prime)} \\\\\n",
    "$"
   ]
  },
  {
   "cell_type": "markdown",
   "metadata": {},
   "source": [
    "$\n",
    "\\phi(n) = n\\prod^{k}_{i = 1}(1 - \\frac{1}{p_i})\n",
    "$"
   ]
  },
  {
   "cell_type": "markdown",
   "metadata": {},
   "source": [
    "證明：$ \\phi(n) = n-1 \\iff n $ is prime"
   ]
  },
  {
   "cell_type": "markdown",
   "metadata": {},
   "source": [
    "$\n",
    "\\Rightarrow \\quad\\\\\n",
    "\\textrm{prove by contradiction, suppose n is not prime} \\\\\n",
    "\\exists m \\in Z^+, 1 < m < n \\textrm{ st } m | n \\\\\n",
    "\\rightarrow \\phi(n) < n - 1 \\textrm{ 矛盾} \\\\\n",
    "\\rightarrow \\textrm{ n is prime} \\\\\n",
    "$"
   ]
  },
  {
   "cell_type": "markdown",
   "metadata": {},
   "source": [
    "$ \n",
    "\\Leftarrow \\quad \\\\\n",
    "\\because gcd(m, n) = 1, \\forall m = 1, 2, ... n - 1 \\\\\n",
    "\\therefore \\phi(n) = n -1 \\\\\n",
    "$"
   ]
  },
  {
   "cell_type": "markdown",
   "metadata": {},
   "source": [
    "### 4. 費馬小定理"
   ]
  },
  {
   "cell_type": "markdown",
   "metadata": {},
   "source": [
    "$\n",
    "\\forall m \\in Z, p \\text{ is prime, st } gcd(m, p) = 1 \\rightarrow m ^ {p - 1} \\equiv 1 \\text{ ( mod p )}\n",
    "$"
   ]
  },
  {
   "cell_type": "markdown",
   "metadata": {},
   "source": [
    "$\n",
    "\\text{證明：} m ^ {p - 1} \\equiv 1 \\text{ ( mod p )}\n",
    "$"
   ]
  },
  {
   "cell_type": "markdown",
   "metadata": {},
   "source": [
    "$\n",
    "\\text{考慮以下 p - 1 個數：} \\\\\n",
    "x_1 = m \\text{ ( mod p )} \\\\ \n",
    "x_2 = 2m \\text{ ( mod p )} \\\\ \n",
    "... \\\\\n",
    "x_{p - 1} = (p - 1)m \\text{ ( mod p )} \\\\ \n",
    "\\rightarrow \\{x_1, x_2, ... x_{p-1}\\} \\subset \\{0,1,2, ...p-1\\} \\\\ \n",
    "$"
   ]
  },
  {
   "cell_type": "markdown",
   "metadata": {},
   "source": [
    "$\n",
    "\\because gcd(m,p) = 1 \\\\\n",
    "\\therefore p \\nmid km, \\forall k = 1, 2, ... p - 1 \\\\\n",
    "\\rightarrow x_i \\neq 0, \\forall i = 1, 2,... p - 1 \\\\\n",
    "\\rightarrow \\{x_1, x_2,... p - 1\\} \\subseteq \\{1,2, ...p-1\\} \\\\\n",
    "$"
   ]
  },
  {
   "cell_type": "markdown",
   "metadata": {},
   "source": [
    "$\n",
    "\\text{引理：} \\\\ \n",
    "\\forall a, b, c, n \\in Z, \\text{ if } gcd(c,n) = 1 \\text{ then: } \\\\ \n",
    "ac \\equiv bc \\text{ ( mod n )} \\iff a \\equiv b \\text{ ( mod n )}\n",
    "$"
   ]
  },
  {
   "cell_type": "markdown",
   "metadata": {},
   "source": [
    "$\n",
    "\\Rightarrow \\\\\n",
    "\\because ac \\equiv bc \\text{ ( mod n )} \\\\\n",
    "\\therefore n \\mid ac - bc \\\\\n",
    "\\rightarrow n \\mid (a - b)c \\\\\n",
    "\\because gcd(c, n) = 1 \\\\\n",
    "\\therefore n \\mid a - b \\\\\n",
    "\\rightarrow a \\equiv b \\text{ ( mod n )} \\\\\n",
    "$"
   ]
  },
  {
   "cell_type": "markdown",
   "metadata": {},
   "source": [
    "$\n",
    "\\Leftarrow \\\\\n",
    "\\because a \\equiv b \\text{ ( mod n )} \\\\\n",
    "\\therefore n \\mid a - b \\\\\n",
    "\\rightarrow n \\mid (a - b)c \\\\\n",
    "\\rightarrow ac \\equiv bc \\text{ ( mod n )} \\\\\n",
    "$"
   ]
  },
  {
   "cell_type": "markdown",
   "metadata": {},
   "source": [
    "$\n",
    "\\text{claim: } \\forall i \\neq j , x_i \\neq x_j \\text{ st } \\{x_1, x_2,... p - 1\\} = \\{1,2, ...p-1\\} \\\\\n",
    "\\text{prove by contradiction, suppose } \\exists i \\neq j, x_i = x_j \\\\\n",
    "\\rightarrow im \\equiv jm \\text{ ( mod p )} \\\\\n",
    "\\because gcd(m, p) = 1 \\\\\n",
    "\\therefore i \\equiv j \\text{ ( mod p )} \\text{ 矛盾}\\\\\n",
    "\\rightarrow \\forall i \\neq j , x_i \\neq x_j \\text{ st } \\{x_1, x_2,... p - 1\\} = \\{1,2, ...p-1\\} \\\\\n",
    "$"
   ]
  },
  {
   "cell_type": "markdown",
   "metadata": {},
   "source": [
    "$\n",
    "\\because  1m * 2m ... (p - 1)m \\equiv 1 * 2 ... (p - 1) \\text{ ( mod p )} \\\\\n",
    "\\therefore  (p - 1)! m ^ {p - 1} \\equiv (p - 1)! \\text{ ( mod p )} \\\\\n",
    "\\text{將左右兩式同除以：} (p - 1)! \\\\\n",
    "\\rightarrow m ^ {p - 1} \\equiv 1 \\text{ ( mod p )} \\\\\n",
    "$"
   ]
  },
  {
   "cell_type": "markdown",
   "metadata": {},
   "source": [
    "### 5. 中國餘式定理"
   ]
  },
  {
   "cell_type": "markdown",
   "metadata": {},
   "source": [
    "$ $"
   ]
  },
  {
   "cell_type": "markdown",
   "metadata": {},
   "source": [
    "## （三）RSA 證明"
   ]
  },
  {
   "cell_type": "markdown",
   "metadata": {},
   "source": [
    "$ \n",
    "\\textrm{證明： }\n",
    "\\begin{cases}\n",
    "M ^ e \\textrm{ (mod n)} \\equiv C  \\\\ \n",
    "C ^ d \\textrm{ (mod n)} \\equiv M  \\\\ \n",
    "\\end{cases}\n",
    "$"
   ]
  },
  {
   "cell_type": "markdown",
   "metadata": {},
   "source": [
    "$ \n",
    "\\textrm{已知： }\n",
    "\\begin{cases}\n",
    "n = pq \\\\\n",
    "\\phi(n) = \\phi(p) * \\phi(q) = (p - 1)(q - 1)  \\\\ \n",
    "gcd(\\phi(n), e) = 1 \\\\ \n",
    "\\end{cases}\n",
    "$"
   ]
  },
  {
   "cell_type": "markdown",
   "metadata": {},
   "source": [
    "$ \n",
    "\\because gcd(\\phi(n), e) = 1 \\\\\n",
    "\\therefore \\exists d \\textrm{ st } ed \\equiv 1 \\text{ (mod } \\phi(n)) \\textrm{（模反元素存在）} \\\\ \n",
    "\\rightarrow e ^ {-1} \\equiv d \\text{ (mod } \\phi(n)) \\\\\n",
    "$"
   ]
  },
  {
   "cell_type": "markdown",
   "metadata": {},
   "source": [
    "$ \n",
    "\\because ed \\equiv 1 \\text{ (mod } (p - 1)(q - 1)) \\\\\n",
    "\\therefore \\exists k \\in Z \\text{ st } ed = k(p - 1)(q - 1) + 1\\\\\n",
    "$"
   ]
  },
  {
   "cell_type": "markdown",
   "metadata": {},
   "source": [
    "令\n",
    "$ \n",
    "C \\equiv M ^ e \\text{ (mod n) }\n",
    "$"
   ]
  },
  {
   "cell_type": "markdown",
   "metadata": {},
   "source": [
    "$\n",
    "\\because \\text{費馬小定理} \\\\\n",
    "\\therefore M^{(p - 1)} \\equiv 1 \\text{ (mod p) and } M^{(q - 1)} \\text{ (mod q) }\\\\\n",
    "$"
   ]
  },
  {
   "cell_type": "markdown",
   "metadata": {},
   "source": [
    "$\n",
    "\\rightarrow C ^ d \\equiv (M^e)^d \\equiv M^{ed} \\equiv M ^ {k(p-1)(q-1) + 1} \\equiv (M^{(p-1)})^{k(q-1)}M \\equiv (1) M \\equiv M \\text{ (mod p)} \\\\\n",
    "\\rightarrow C ^ d \\equiv (M^e)^d \\equiv M^{ed} \\equiv M ^ {k(q-1)(p-1) + 1} \\equiv (M^{(q-1)})^{k(p-1)}M \\equiv (1) M \\equiv M \\text{ (mod q)} \\\\\n",
    "$"
   ]
  },
  {
   "cell_type": "markdown",
   "metadata": {},
   "source": [
    "$\n",
    "\\because \\text{中國餘式定理} \\\\\n",
    "\\therefore C ^ d \\equiv M \\text{ (mod pq) 有唯一解}\\\\\n",
    "\\rightarrow C ^ d \\equiv M \\text{ (mod n)} \\\\\n",
    "$"
   ]
  },
  {
   "cell_type": "markdown",
   "metadata": {},
   "source": [
    "## （四）RSA 實作"
   ]
  },
  {
   "cell_type": "markdown",
   "metadata": {},
   "source": [
    "### 質因數分解"
   ]
  },
  {
   "cell_type": "markdown",
   "metadata": {},
   "source": [
    "* 版本一：分解一次"
   ]
  },
  {
   "cell_type": "code",
   "execution_count": 2,
   "metadata": {},
   "outputs": [
    {
     "name": "stdout",
     "output_type": "stream",
     "text": [
      "[2, 512]\n"
     ]
    }
   ],
   "source": [
    "def factorize(x):\n",
    "    is_prime = True\n",
    "    for i in sp.primerange(0, x ** 0.5 + 1):\n",
    "        if x % i == 0:\n",
    "            j = x // i\n",
    "            is_prime = False\n",
    "            return [i, j]\n",
    "    if is_prime:\n",
    "        return [0, x]\n",
    "    \n",
    "print(factorize(2 ** 10))"
   ]
  },
  {
   "cell_type": "markdown",
   "metadata": {},
   "source": [
    "* 版本二：完全分解"
   ]
  },
  {
   "cell_type": "code",
   "execution_count": 3,
   "metadata": {},
   "outputs": [
    {
     "name": "stdout",
     "output_type": "stream",
     "text": [
      "[2, 2, 2, 2, 2, 2, 2, 2, 2, 2]\n"
     ]
    }
   ],
   "source": [
    "def factorize2(x):\n",
    "    fact_list = list()\n",
    "    if sp.isprime(x) == False:\n",
    "        fact = 1\n",
    "        while fact != 0:\n",
    "            fact, x = factorize(x)    \n",
    "            if fact != 0:\n",
    "                fact_list.append(fact)\n",
    "        if x != 1:\n",
    "            fact_list.append(x)\n",
    "    else:\n",
    "        fact_list.append(x)\n",
    "    return fact_list\n",
    "\n",
    "print(factorize2(2 ** 10))"
   ]
  },
  {
   "cell_type": "markdown",
   "metadata": {},
   "source": [
    "### 歐幾里德演算法（輾轉相除法）"
   ]
  },
  {
   "cell_type": "code",
   "execution_count": 4,
   "metadata": {},
   "outputs": [],
   "source": [
    "def greatest_common_divisor(a, b):\n",
    "    if b == 0:\n",
    "        return a\n",
    "    else:\n",
    "        return greatest_common_divisor(b, a % b)"
   ]
  },
  {
   "cell_type": "markdown",
   "metadata": {},
   "source": [
    "### 歐拉函數"
   ]
  },
  {
   "cell_type": "code",
   "execution_count": 5,
   "metadata": {},
   "outputs": [],
   "source": [
    "def euler_function(p, q):\n",
    "    return (p - 1) * (q - 1)"
   ]
  },
  {
   "cell_type": "markdown",
   "metadata": {},
   "source": [
    "### 轉碼"
   ]
  },
  {
   "cell_type": "markdown",
   "metadata": {},
   "source": [
    "在進行加密前必須先進行前置作業：轉碼。也就是說文字必須先轉換成數字才能進行計算。為了能夠支援中文，在此選擇了 UTF-8 作為輸入。另外，一般而言 RSA 都是採用「二進位」計算，不過為了理解方便，在此選擇使用「十進位」進行計算。"
   ]
  },
  {
   "cell_type": "markdown",
   "metadata": {},
   "source": [
    "* $ \\textrm{UTF-8} \\rightarrow Decimal $"
   ]
  },
  {
   "cell_type": "code",
   "execution_count": 6,
   "metadata": {},
   "outputs": [],
   "source": [
    "def string_to_int(string):\n",
    "    byte = string.encode()               # string to byte\n",
    "    hexadecimal = binascii.hexlify(byte) # byte to hex\n",
    "    decimal = int(hexadecimal, 16)       # hex to dec\n",
    "    return decimal"
   ]
  },
  {
   "cell_type": "markdown",
   "metadata": {},
   "source": [
    "* $ Decimal \\rightarrow \\textrm{UTF-8} $"
   ]
  },
  {
   "cell_type": "code",
   "execution_count": 7,
   "metadata": {},
   "outputs": [],
   "source": [
    "def int_to_string(int):\n",
    "    hexadecimal = hex(int)               # dec to hex\n",
    "    byte = hexadecimal[2:].encode()      # hex to byte (type)\n",
    "    byte = binascii.unhexlify(byte)      # hex to byte (coding)\n",
    "    string = byte.decode('utf-8')        # byte to utf-8\n",
    "    return string"
   ]
  },
  {
   "cell_type": "markdown",
   "metadata": {},
   "source": [
    "* 轉換過程"
   ]
  },
  {
   "cell_type": "code",
   "execution_count": 8,
   "metadata": {},
   "outputs": [
    {
     "name": "stdout",
     "output_type": "stream",
     "text": [
      "轉換前：Hello World! 你好！\n",
      "轉換後：27086628833817823194713031788698839469377765346622593\n",
      "還原後：Hello World! 你好！\n"
     ]
    }
   ],
   "source": [
    "string = 'Hello World! 你好！'\n",
    "print('轉換前：%s' % string)\n",
    "integer = string_to_int(string)\n",
    "print('轉換後：%s' % integer)\n",
    "message = int_to_string(integer)\n",
    "print('還原後：%s' % message)"
   ]
  },
  {
   "cell_type": "markdown",
   "metadata": {},
   "source": [
    "### 加密函數"
   ]
  },
  {
   "cell_type": "code",
   "execution_count": 9,
   "metadata": {},
   "outputs": [],
   "source": [
    "def encode(plaintext, public_key, n):\n",
    "    cyphertext = (plaintext ** public_key) % n    \n",
    "    return cyphertext"
   ]
  },
  {
   "cell_type": "markdown",
   "metadata": {},
   "source": [
    "### 解密函數"
   ]
  },
  {
   "cell_type": "markdown",
   "metadata": {},
   "source": [
    "* 版本一：直接解密"
   ]
  },
  {
   "cell_type": "code",
   "execution_count": 10,
   "metadata": {},
   "outputs": [],
   "source": [
    "def decode(cyphertext, private_key, n):\n",
    "    plaintext = (cyphertext ** private_key) % n\n",
    "    return plaintext"
   ]
  },
  {
   "cell_type": "markdown",
   "metadata": {},
   "source": [
    "* 版本二：先將私鑰分解後再解密"
   ]
  },
  {
   "cell_type": "markdown",
   "metadata": {},
   "source": [
    "版本一的做法是直接對私鑰進行解密，即計算：$ C ^ {d} \\text{ ( mod n ) } \\equiv M $。這條方程式理論上可行，也有唯一解，但其實並不實際。原因在於當 C, d, n 都很大時，解密要花非常久的時間，且一般電腦有可能發生溢位。但如果能先將 d 分解，即：$ d = d_0d_1...d_n $ 則只要計算出：((($ C ^ {d_0}  $ ( mod n )) $ ^ {d_1}$ ( mod n ))... )$ ^ {d_n} $ ( mod n ) 就可以省下非常多的時間，且較不容易發生益位。"
   ]
  },
  {
   "cell_type": "markdown",
   "metadata": {},
   "source": [
    "$\n",
    "\\text{證明：} \\forall m,n,a,b \\in Z, m^{ab} \\equiv (m^a \\text{ ( mod n) })^b \\text{ ( mod n) } \\\\\n",
    "\\text{令：} m = nq + r \\\\\n",
    "\\rightarrow m ^ {ab} \\equiv (nq + r) ^ {ab} \\equiv r ^ {ab} \\text{ ( mod n) } \\\\\n",
    "\\rightarrow (m^a \\text{ ( mod n) })^b \\equiv ((nq + r) ^ {a} \\text{ ( mod n) } ) ^ b \\equiv r ^ {ab} \\text{ ( mod n) } \\\\\n",
    "$"
   ]
  },
  {
   "cell_type": "code",
   "execution_count": 11,
   "metadata": {},
   "outputs": [],
   "source": [
    "def decode2(cyphertext, private_key_fact_list, n):\n",
    "    for i in private_key_fact_list:\n",
    "        cyphertext = (cyphertext ** i) % n\n",
    "    plaintext = cyphertext\n",
    "    return plaintext"
   ]
  },
  {
   "cell_type": "markdown",
   "metadata": {},
   "source": [
    "### 生成鑰匙"
   ]
  },
  {
   "cell_type": "code",
   "execution_count": 12,
   "metadata": {},
   "outputs": [],
   "source": [
    "def generate_key():\n",
    "    public_key, private_key = 0, 0\n",
    "    prime = list(sp.primerange((10 ** 3), (10 ** 4)))   \n",
    "    while (public_key == 0) or (private_key == 0):      \n",
    "        p, q = random.choices(prime, k=2)               # 隨機生成兩質數 p, q \n",
    "        n = p * q                                       # n = p * q\n",
    "        o = euler_function(p, q)                        # 歐拉函數\n",
    "        public_key, private_key = factorize(o * 10 + 1) # 生成公鑰、私鑰\n",
    "        gcd = greatest_common_divisor(public_key, o)\n",
    "        remainder = public_key * private_key % o\n",
    "        print('gcd: %i' % gcd)\n",
    "        print('remainder: %i' % remainder)\n",
    "        if gcd == 1 and remainder == 1:                 # 檢查是否互質\n",
    "            print('generate key succes\\n')\n",
    "            break\n",
    "        else:\n",
    "            print('generate key fail\\n')\n",
    "    return p, q, public_key, private_key, n"
   ]
  },
  {
   "cell_type": "markdown",
   "metadata": {},
   "source": [
    "* 生成過程"
   ]
  },
  {
   "cell_type": "code",
   "execution_count": 23,
   "metadata": {},
   "outputs": [
    {
     "name": "stdout",
     "output_type": "stream",
     "text": [
      "gcd: 10719792\n",
      "remainder: 0\n",
      "generate key fail\n",
      "\n",
      "gcd: 27819072\n",
      "remainder: 0\n",
      "generate key fail\n",
      "\n",
      "gcd: 1\n",
      "remainder: 1\n",
      "generate key succes\n",
      "\n",
      "p: 4021\n",
      "q: 8747\n",
      "public key: 23\n",
      "private key: 15286487 = [59, 109, 2377]\n",
      "n: 35171687\n"
     ]
    }
   ],
   "source": [
    "p, q, public_key, private_key, n = generate_key()\n",
    "private_key_fact_list = factorize2(private_key)         # 分解 private key，避免解密時間過長\n",
    "print('p: %i' % p)\n",
    "print('q: %i' % q)\n",
    "print('public key: %i' % public_key)\n",
    "print('private key: %i = %s' % (private_key, str(private_key_fact_list)))\n",
    "print('n: %i' % n)"
   ]
  },
  {
   "cell_type": "markdown",
   "metadata": {},
   "source": [
    "### 加密"
   ]
  },
  {
   "cell_type": "code",
   "execution_count": 24,
   "metadata": {},
   "outputs": [
    {
     "name": "stdout",
     "output_type": "stream",
     "text": [
      "明文：[72, 101, 108, 108, 111, 32, 87, 111, 114, 108, 100, 33]\n",
      "密文：[26139133, 27505300, 6505479, 6505479, 18543983, 34391151, 3180978, 18543983, 19823167, 6505479, 17614111, 2863701]\n"
     ]
    }
   ],
   "source": [
    "plaintext = 'Hello World!'\n",
    "plaintext_list = list()\n",
    "cyphertext_list = list()\n",
    "for i in plaintext:\n",
    "    integer = string_to_int(i)\n",
    "    plaintext_list.append(integer)\n",
    "    cyphertext = encode(integer, public_key, n)\n",
    "    cyphertext_list.append(cyphertext)\n",
    "print('明文：%s' % str(plaintext_list))\n",
    "print('密文：%s' % str(cyphertext_list))"
   ]
  },
  {
   "cell_type": "markdown",
   "metadata": {},
   "source": [
    "### 解密"
   ]
  },
  {
   "cell_type": "code",
   "execution_count": 25,
   "metadata": {},
   "outputs": [
    {
     "name": "stdout",
     "output_type": "stream",
     "text": [
      "Hello World!\n"
     ]
    }
   ],
   "source": [
    "message = ''\n",
    "for i in cyphertext_list:\n",
    "    plaintext = decode2(i, private_key_fact_list, n)\n",
    "    message += int_to_string(plaintext)\n",
    "print(message)"
   ]
  },
  {
   "cell_type": "markdown",
   "metadata": {},
   "source": [
    "## （五）RSA 安全性"
   ]
  },
  {
   "cell_type": "markdown",
   "metadata": {},
   "source": [
    "* RSA 的安全性是基於現階段傳統電腦並沒有任何演算法能夠在線性時間內 $ \\mathcal{O}(n^k) $ 分解 $ n = pq $。以最簡單的演算法「暴力法」來說：當我們要對 n 進行分解，只要嘗試將 n 除以 $ 2, 3, 5... \\frac{\\sqrt n}{2} $ 的質數即可，即求：$ \\sum_{i = 2}^{\\frac{\\sqrt n}{2}}\\mathcal{O}(k) $ ，其複雜度亦會隨著 n 的上升而無法收斂：$ \\lim_{n \\to \\infty} \\sum_{i = 2}^{\\frac{\\sqrt n}{2}}\\mathcal{O}(k) = \\infty\\\\ $。"
   ]
  },
  {
   "cell_type": "markdown",
   "metadata": {},
   "source": [
    "* 現階段最好的質因數分解演算法為 GNFS。然而其複雜度為：$\\theta (exp(\\frac{64n}{9})^\\frac{1}{3}(logn)^\\frac{2}{3})$ ，同樣也無法在線性時間內完成分解。"
   ]
  },
  {
   "cell_type": "markdown",
   "metadata": {},
   "source": [
    "* 2009/12/12，RSA-768（768 bits, 232 digits）被成功分解。這一事件威脅了現階段 RSA-1024 的安全性，因此 RSA 未來勢必會更新到 2048 或以上。"
   ]
  },
  {
   "cell_type": "markdown",
   "metadata": {},
   "source": [
    "* 總結來說，只要量子電腦尚未普及，現階段只要增加 n 的位元組即可保障 RSA 的安全性。"
   ]
  },
  {
   "cell_type": "markdown",
   "metadata": {},
   "source": [
    "## （六）後記"
   ]
  },
  {
   "cell_type": "markdown",
   "metadata": {},
   "source": [
    "* RSA 的原理用到了許多數論上的定理，其安全性在傳統電腦下至今仍然無法在線性時間下被破解，也因此成為了目前世界上「非對稱加密」的主流方法。其發明者：Ron Rivest, Adi Shamir, Leonard Adleman 也因此獲得了 2002 年的圖靈獎。"
   ]
  },
  {
   "cell_type": "markdown",
   "metadata": {},
   "source": [
    "## （七）參考"
   ]
  },
  {
   "cell_type": "markdown",
   "metadata": {},
   "source": [
    "* Discrete Mathematics and Its Applications – Rosen"
   ]
  },
  {
   "cell_type": "markdown",
   "metadata": {},
   "source": [
    "* 離散數學 – 黃子嘉"
   ]
  },
  {
   "cell_type": "markdown",
   "metadata": {},
   "source": [
    "* Wikipedia – RSA"
   ]
  }
 ],
 "metadata": {
  "kernelspec": {
   "display_name": "py3.6",
   "language": "python",
   "name": "py3.6"
  },
  "language_info": {
   "codemirror_mode": {
    "name": "ipython",
    "version": 3
   },
   "file_extension": ".py",
   "mimetype": "text/x-python",
   "name": "python",
   "nbconvert_exporter": "python",
   "pygments_lexer": "ipython3",
   "version": "3.6.0"
  }
 },
 "nbformat": 4,
 "nbformat_minor": 2
}
