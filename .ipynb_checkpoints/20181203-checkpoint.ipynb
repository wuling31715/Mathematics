{
 "cells": [
  {
   "cell_type": "markdown",
   "metadata": {},
   "source": [
    "# 傅立葉級數2"
   ]
  },
  {
   "cell_type": "markdown",
   "metadata": {},
   "source": [
    "$$\\omega = 2\\pi f = 2\\pi \\dfrac{1}{T}$$"
   ]
  },
  {
   "cell_type": "markdown",
   "metadata": {},
   "source": [
    "$$\\int_0^T f(t) \\, dt = a_n \\int_0^T \\sin^2(n\\cdot \\omega t) \\, dt = a_n \\dfrac{T}{2}$$"
   ]
  },
  {
   "cell_type": "markdown",
   "metadata": {},
   "source": [
    "$$a_n = \\dfrac{2\\int_0^T f(t)}{T}$$"
   ]
  },
  {
   "cell_type": "code",
   "execution_count": 1,
   "metadata": {},
   "outputs": [],
   "source": [
    "%matplotlib inline\n",
    "import numpy as np\n",
    "import matplotlib.pyplot as plt"
   ]
  },
  {
   "cell_type": "code",
   "execution_count": 2,
   "metadata": {},
   "outputs": [],
   "source": [
    "x = np.arange(10)\n",
    "y = np.array([14, 18.7, 9, 4.1, 6.7, 6, 6.3, 8.4, 4, 2.9])"
   ]
  },
  {
   "cell_type": "markdown",
   "metadata": {},
   "source": [
    "$$f(t)\\sin(\\omega t)$$"
   ]
  },
  {
   "cell_type": "code",
   "execution_count": 3,
   "metadata": {},
   "outputs": [
    {
     "name": "stdout",
     "output_type": "stream",
     "text": [
      "t: 1\n",
      "[ 0.00000000e+00  1.09915842e+01  8.55950865e+00  3.89933172e+00\n",
      "  3.93816119e+00  7.34788079e-16 -3.70304709e+00 -7.98887474e+00\n",
      " -3.80422607e+00 -1.70457723e+00]\n",
      "Area: 10.187861\n",
      "An: 2.037572\n",
      "\n",
      "t: 2\n",
      "[ 0.00000000e+00  1.77847569e+01  5.29006727e+00 -2.40991953e+00\n",
      " -6.37207866e+00 -1.46957616e-15  5.99165605e+00  4.93739612e+00\n",
      " -2.35114101e+00 -2.75806390e+00]\n",
      "Area: 20.112673\n",
      "An: 4.022535\n",
      "\n",
      "t: 3\n",
      "[ 0.00000000e+00  1.77847569e+01 -5.29006727e+00 -2.40991953e+00\n",
      "  6.37207866e+00  2.20436424e-15 -5.99165605e+00  4.93739612e+00\n",
      "  2.35114101e+00 -2.75806390e+00]\n",
      "Area: 14.995666\n",
      "An: 2.999133\n",
      "\n",
      "t: 4\n",
      "[ 0.00000000e+00  1.09915842e+01 -8.55950865e+00  3.89933172e+00\n",
      " -3.93816119e+00 -2.93915232e-15  3.70304709e+00 -7.98887474e+00\n",
      "  3.80422607e+00 -1.70457723e+00]\n",
      "Area: 0.207067\n",
      "An: 0.041413\n",
      "\n",
      "t: 5\n",
      "[ 0.00000000e+00  2.29008951e-15 -2.20436424e-15  1.50631556e-15\n",
      " -3.28205342e-15  3.67394040e-15 -4.62916490e-15  7.20092318e-15\n",
      " -3.91886976e-15  3.19632815e-15]\n",
      "Area: 0.000000\n",
      "An: 0.000000\n",
      "\n"
     ]
    }
   ],
   "source": [
    "for i in range(1, 6):\n",
    "    T = 10\n",
    "    t = i\n",
    "    w = (2 * t * np.pi) / T\n",
    "    a = y * np.sin(w * x)\n",
    "    A = a.sum()\n",
    "    An = 2 * A / T\n",
    "    print('t: %i' % t)\n",
    "    print(a)\n",
    "    print('Area: %f' % A)\n",
    "    print('An: %f' % An)\n",
    "    print()"
   ]
  },
  {
   "cell_type": "markdown",
   "metadata": {},
   "source": [
    "$$f(t)\\cos(\\omega t)$$"
   ]
  },
  {
   "cell_type": "code",
   "execution_count": 4,
   "metadata": {},
   "outputs": [
    {
     "name": "stdout",
     "output_type": "stream",
     "text": [
      "t: 1\n",
      "[14.         15.12861779  2.78115295 -1.26696968 -5.42041386 -6.\n",
      " -5.09680706 -2.59574275  1.23606798  2.34614928]\n",
      "Area: 15.112055\n",
      "An: 3.022411\n",
      "\n",
      "t: 2\n",
      "[14.          5.77861779 -7.28115295 -3.31696968  2.07041386  6.\n",
      "  1.94680706 -6.79574275 -3.23606798  0.89614928]\n",
      "Area: 10.062055\n",
      "An: 2.012411\n",
      "\n",
      "t: 3\n",
      "[14.         -5.77861779 -7.28115295  3.31696968  2.07041386 -6.\n",
      "  1.94680706  6.79574275 -3.23606798 -0.89614928]\n",
      "Area: 4.937945\n",
      "An: 0.987589\n",
      "\n",
      "t: 4\n",
      "[ 14.         -15.12861779   2.78115295   1.26696968  -5.42041386\n",
      "   6.          -5.09680706   2.59574275   1.23606798  -2.34614928]\n",
      "Area: -0.112055\n",
      "An: -0.022411\n",
      "\n",
      "t: 5\n",
      "[ 14.  -18.7   9.   -4.1   6.7  -6.    6.3  -8.4   4.   -2.9]\n",
      "Area: -0.100000\n",
      "An: -0.020000\n",
      "\n"
     ]
    }
   ],
   "source": [
    "for i in range(1, 6):\n",
    "    T = 10\n",
    "    t = i\n",
    "    w = (2 * t * np.pi) / T\n",
    "    a = y * np.cos(w * x)\n",
    "    A = a.sum()\n",
    "    An = 2 * A / T\n",
    "    print('t: %i' % t)\n",
    "    print(a)\n",
    "    print('Area: %f' % A)\n",
    "    print('An: %f' % An)\n",
    "    print()"
   ]
  },
  {
   "cell_type": "code",
   "execution_count": null,
   "metadata": {},
   "outputs": [],
   "source": []
  }
 ],
 "metadata": {
  "kernelspec": {
   "display_name": "py3.6",
   "language": "python",
   "name": "py3.6"
  },
  "language_info": {
   "codemirror_mode": {
    "name": "ipython",
    "version": 3
   },
   "file_extension": ".py",
   "mimetype": "text/x-python",
   "name": "python",
   "nbconvert_exporter": "python",
   "pygments_lexer": "ipython3",
   "version": "3.6.0"
  }
 },
 "nbformat": 4,
 "nbformat_minor": 2
}
