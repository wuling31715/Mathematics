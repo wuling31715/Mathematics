{
 "cells": [
  {
   "cell_type": "markdown",
   "metadata": {},
   "source": [
    "# RSA 原理與實作"
   ]
  },
  {
   "cell_type": "code",
   "execution_count": 1,
   "metadata": {},
   "outputs": [],
   "source": [
    "%matplotlib inline\n",
    "import matplotlib.pyplot as plt\n",
    "import numpy as np\n",
    "import sympy as sp\n",
    "import binascii\n",
    "import random"
   ]
  },
  {
   "cell_type": "markdown",
   "metadata": {},
   "source": [
    "### 質因數分解"
   ]
  },
  {
   "cell_type": "code",
   "execution_count": 2,
   "metadata": {},
   "outputs": [
    {
     "name": "stdout",
     "output_type": "stream",
     "text": [
      "[2, 512]\n"
     ]
    }
   ],
   "source": [
    "def factorize(x):\n",
    "    is_prime = True\n",
    "    for i in sp.primerange(0, x ** 0.5 + 1):\n",
    "        if x % i == 0:\n",
    "            j = x // i\n",
    "            is_prime = False\n",
    "            return [i, j]\n",
    "    if is_prime:\n",
    "        return [0, x]\n",
    "    \n",
    "print(factorize(2 ** 10))"
   ]
  },
  {
   "cell_type": "code",
   "execution_count": 3,
   "metadata": {},
   "outputs": [
    {
     "name": "stdout",
     "output_type": "stream",
     "text": [
      "[2, 2, 2, 2, 2, 2, 2, 2, 2, 2]\n"
     ]
    }
   ],
   "source": [
    "def factorize2(x):\n",
    "    fact_list = list()\n",
    "    if sp.isprime(x) == False:\n",
    "        fact = 1\n",
    "        while fact != 0:\n",
    "            fact, x = factorize(x)    \n",
    "            if fact != 0:\n",
    "                fact_list.append(fact)\n",
    "        if x != 1:\n",
    "            fact_list.append(x)\n",
    "    else:\n",
    "        fact_list.append(x)\n",
    "    return fact_list\n",
    "\n",
    "print(factorize2(2 ** 10))"
   ]
  },
  {
   "cell_type": "markdown",
   "metadata": {},
   "source": [
    "### 歐幾里德演算法（輾轉相除法）"
   ]
  },
  {
   "cell_type": "markdown",
   "metadata": {},
   "source": [
    "$\n",
    "\\forall m , n, q, r \\in Z \\mbox{ , if } m = nq + r \\mbox{ , then } gcd(m,n) = gcd(n, r) \\\\\n",
    "$"
   ]
  },
  {
   "cell_type": "markdown",
   "metadata": {},
   "source": [
    "$ \n",
    "\\begin{cases}\n",
    "gcd(n, 0) & \\mbox{, if $n > 0$} \\\\ \n",
    "gcd(m, n) = gcd(m, r) & \\mbox{, if $m > n$} \\\\ \n",
    "\\end{cases}\n",
    "$"
   ]
  },
  {
   "cell_type": "markdown",
   "metadata": {},
   "source": [
    "$ \n",
    "\\mbox{證明： } gcd(m,n) = gcd(n, r) \\\\ \n",
    "\\mbox{令： } gcd(m,n) = g1, gcd(n, r) = g2 \\\\\n",
    "$"
   ]
  },
  {
   "cell_type": "markdown",
   "metadata": {},
   "source": [
    "$\n",
    "\\because g1 | m \\mbox{ and } g1 | n \\\\\n",
    "\\therefore g1 | (m - nq) \\\\\n",
    "\\rightarrow g1 | r \\\\\n",
    "\\because g2 \\mbox{ is the greatest common divisor of } n, r\\\\\n",
    "\\therefore g2 \\geq g1 \\\\\n",
    "$\n",
    "$\n",
    "\\because g2 | n \\mbox{ and } g2 | r \\\\\n",
    "\\therefore g2 | (nq + r) \\\\\n",
    "\\rightarrow g2 | m \\\\\n",
    "\\because g1 \\mbox{ is the greatest common divisor of } m, n\\\\\n",
    "\\therefore g1 \\geq g2 \\\\\n",
    "$"
   ]
  },
  {
   "cell_type": "markdown",
   "metadata": {},
   "source": [
    "$\n",
    "\\because g2 \\geq g1 \\mbox{ and } g1 \\leq g2 \\\\\n",
    "\\therefore g1 = g2 \\\\\n",
    "\\rightarrow gcd(m,n) = gcd(q,r) \\\\\n",
    "$"
   ]
  },
  {
   "cell_type": "code",
   "execution_count": 4,
   "metadata": {},
   "outputs": [],
   "source": [
    "def greatest_common_divisor(a, b):\n",
    "    if b == 0:\n",
    "        return a\n",
    "    else:\n",
    "        return greatest_common_divisor(b, a % b)"
   ]
  },
  {
   "cell_type": "markdown",
   "metadata": {},
   "source": [
    "### 歐拉函數"
   ]
  },
  {
   "cell_type": "markdown",
   "metadata": {},
   "source": [
    "定義：$ \\phi(n): $ { $ 1, 2 ... n - 1 $ } 中與 n 互質的元素個素 "
   ]
  },
  {
   "cell_type": "markdown",
   "metadata": {},
   "source": [
    "$\n",
    "\\forall n \\in Z, n = p{_1}^{e_1} p{_2}^{e_2} p{_3}^{e_3}... p{_k}^{e_k} \\mbox{ ($\\forall i \\in Z, i\\leq k, p_i$ is prime)} \\\\\n",
    "$"
   ]
  },
  {
   "cell_type": "markdown",
   "metadata": {},
   "source": [
    "$\n",
    "\\phi(n) = n\\prod^{k}_{i = 1}(1 - \\frac{1}{p_i})\n",
    "$"
   ]
  },
  {
   "cell_type": "markdown",
   "metadata": {},
   "source": [
    "證明：$ \\phi(n) = n-1 \\iff n $ is prime"
   ]
  },
  {
   "cell_type": "markdown",
   "metadata": {},
   "source": [
    "$\n",
    "\\Rightarrow \\quad\\\\\n",
    "\\textrm{prove by contradiction, suppose n is not prime} \\\\\n",
    "\\exists m \\in Z^+, 1 < m < n \\textrm{ st } m | n \\\\\n",
    "\\rightarrow \\phi(n) < n - 1 \\textrm{ 矛盾} \\\\\n",
    "\\rightarrow \\textrm{ n is prime} \\\\\n",
    "$"
   ]
  },
  {
   "cell_type": "markdown",
   "metadata": {},
   "source": [
    "$ \n",
    "\\Leftarrow \\quad \\\\\n",
    "\\because gcd(m, n) = 1, \\forall m = 1, 2, ... n - 1 \\\\\n",
    "\\therefore \\phi(n) = n -1 \\\\\n",
    "$"
   ]
  },
  {
   "cell_type": "code",
   "execution_count": 5,
   "metadata": {},
   "outputs": [],
   "source": [
    "def euler_function(p, q):\n",
    "    return (p - 1) * (q - 1)"
   ]
  },
  {
   "cell_type": "markdown",
   "metadata": {},
   "source": [
    "# RSA 實作"
   ]
  },
  {
   "cell_type": "markdown",
   "metadata": {},
   "source": [
    "1. 亂數生成兩相異質數 $ p, q $ "
   ]
  },
  {
   "cell_type": "markdown",
   "metadata": {},
   "source": [
    "2. 根據歐拉函數， $ \\phi(n) = \\phi(p) * \\phi(q) $"
   ]
  },
  {
   "cell_type": "markdown",
   "metadata": {},
   "source": [
    "### 轉碼"
   ]
  },
  {
   "cell_type": "markdown",
   "metadata": {},
   "source": [
    "$ \\mbox{UTF-8} \\rightarrow Decimal $"
   ]
  },
  {
   "cell_type": "code",
   "execution_count": 6,
   "metadata": {},
   "outputs": [],
   "source": [
    "def string_to_int(string):\n",
    "    byte = string.encode()               # string to byte\n",
    "    hexadecimal = binascii.hexlify(byte) # byte to hex\n",
    "    decimal = int(hexadecimal, 16)       # hex to dec\n",
    "    return decimal"
   ]
  },
  {
   "cell_type": "markdown",
   "metadata": {},
   "source": [
    "$ Decimal \\rightarrow \\mbox{UTF-8} $"
   ]
  },
  {
   "cell_type": "code",
   "execution_count": 7,
   "metadata": {},
   "outputs": [],
   "source": [
    "def int_to_string(int):\n",
    "    hexadecimal = hex(int)               # dec to hex\n",
    "    byte = hexadecimal[2:].encode()      # hex to byte (type)\n",
    "    byte = binascii.unhexlify(byte)      # hex to byte (coding)\n",
    "    string = byte.decode('utf-8')        # byte to utf-8\n",
    "    return string"
   ]
  },
  {
   "cell_type": "code",
   "execution_count": 8,
   "metadata": {},
   "outputs": [
    {
     "name": "stdout",
     "output_type": "stream",
     "text": [
      "27086628833817823194713031788698839469377765346622593\n",
      "Hello World! 你好！\n"
     ]
    }
   ],
   "source": [
    "string = 'Hello World! 你好！'\n",
    "integer = string_to_int(string)\n",
    "print(integer)\n",
    "message = int_to_string(integer)\n",
    "print(message)"
   ]
  },
  {
   "cell_type": "markdown",
   "metadata": {},
   "source": [
    "### 加密函數"
   ]
  },
  {
   "cell_type": "code",
   "execution_count": 9,
   "metadata": {},
   "outputs": [],
   "source": [
    "def encode(plaintext, public_key, n):\n",
    "    cyphertext = (plaintext ** public_key) % n    \n",
    "    return cyphertext"
   ]
  },
  {
   "cell_type": "markdown",
   "metadata": {},
   "source": [
    "### 解密函數"
   ]
  },
  {
   "cell_type": "code",
   "execution_count": 10,
   "metadata": {},
   "outputs": [],
   "source": [
    "def decode(cyphertext, private_key, n):\n",
    "    plaintext = (cyphertext ** private_key) % n\n",
    "    return plaintext"
   ]
  },
  {
   "cell_type": "code",
   "execution_count": 11,
   "metadata": {},
   "outputs": [],
   "source": [
    "def decode2(cyphertext, private_key_fact_list, n):\n",
    "    for i in private_key_fact_list:\n",
    "        cyphertext = (cyphertext ** i) % n\n",
    "    plaintext = cyphertext\n",
    "    return plaintext"
   ]
  },
  {
   "cell_type": "markdown",
   "metadata": {},
   "source": [
    "### 產生鑰匙"
   ]
  },
  {
   "cell_type": "code",
   "execution_count": 12,
   "metadata": {},
   "outputs": [],
   "source": [
    "def generate_key():\n",
    "    public_key, private_key = 0, 0\n",
    "    prime = list(sp.primerange((10 ** 3), (10 ** 4)))\n",
    "    while (public_key == 0) or (private_key == 0):\n",
    "        p, q = random.choices(prime, k=2)\n",
    "        n = p * q\n",
    "        o = euler_function(p, q)\n",
    "        public_key, private_key = factorize(o * 10 + 1)\n",
    "        gcd = greatest_common_divisor(public_key, o)\n",
    "        remainder = public_key * private_key % o\n",
    "        print('gcd: %i' % gcd)\n",
    "        print('remainder: %i' % remainder)\n",
    "        if gcd == 1 and remainder == 1:\n",
    "            print('generate key succes\\n')\n",
    "            break\n",
    "        else:\n",
    "            print('generate key fail\\n')\n",
    "    return p, q, public_key, private_key, n"
   ]
  },
  {
   "cell_type": "code",
   "execution_count": 13,
   "metadata": {},
   "outputs": [
    {
     "name": "stdout",
     "output_type": "stream",
     "text": [
      "gcd: 1\n",
      "remainder: 1\n",
      "generate key succes\n",
      "\n",
      "p: 6151\n",
      "q: 1217\n",
      "public key: 199\n",
      "private key: 375799 = [375799]\n",
      "n: 7485767\n"
     ]
    }
   ],
   "source": [
    "p, q, public_key, private_key, n = generate_key()\n",
    "private_key_fact_list = factorize2(private_key) # 分解 private key，避免解密時間過長\n",
    "print('p: %i' % p)\n",
    "print('q: %i' % q)\n",
    "print('public key: %i' % public_key)\n",
    "print('private key: %i = %s' % (private_key, str(private_key_fact_list)))\n",
    "print('n: %i' % n)"
   ]
  },
  {
   "cell_type": "markdown",
   "metadata": {},
   "source": [
    "### 加密"
   ]
  },
  {
   "cell_type": "code",
   "execution_count": 14,
   "metadata": {},
   "outputs": [
    {
     "name": "stdout",
     "output_type": "stream",
     "text": [
      "Hello World!\n",
      "plain text: [72, 101, 108, 108, 111, 32, 87, 111, 114, 108, 100, 33]\n",
      "cypher text: [4468527, 3570057, 6474546, 6474546, 175601, 3120260, 6332499, 175601, 4265094, 6474546, 6874139, 4444342]\n"
     ]
    }
   ],
   "source": [
    "plaintext = input()\n",
    "plaintext_list = list()\n",
    "cyphertext_list = list()\n",
    "for i in plaintext:\n",
    "    integer = string_to_int(i)\n",
    "    plaintext_list.append(integer)\n",
    "    cyphertext = encode(integer, public_key, n)\n",
    "    cyphertext_list.append(cyphertext)\n",
    "print('plain text: %s' % str(plaintext_list))\n",
    "print('cypher text: %s' % str(cyphertext_list))"
   ]
  },
  {
   "cell_type": "markdown",
   "metadata": {},
   "source": [
    "### 解密"
   ]
  },
  {
   "cell_type": "code",
   "execution_count": 15,
   "metadata": {},
   "outputs": [
    {
     "name": "stdout",
     "output_type": "stream",
     "text": [
      "Hello World!\n"
     ]
    }
   ],
   "source": [
    "message = ''\n",
    "for i in cyphertext_list:\n",
    "    plaintext = decode2(i, private_key_fact_list, n)\n",
    "    message += int_to_string(plaintext)\n",
    "print(message)"
   ]
  },
  {
   "cell_type": "code",
   "execution_count": null,
   "metadata": {},
   "outputs": [],
   "source": []
  }
 ],
 "metadata": {
  "kernelspec": {
   "display_name": "py3.6",
   "language": "python",
   "name": "py3.6"
  },
  "language_info": {
   "codemirror_mode": {
    "name": "ipython",
    "version": 3
   },
   "file_extension": ".py",
   "mimetype": "text/x-python",
   "name": "python",
   "nbconvert_exporter": "python",
   "pygments_lexer": "ipython3",
   "version": "3.6.0"
  }
 },
 "nbformat": 4,
 "nbformat_minor": 2
}
