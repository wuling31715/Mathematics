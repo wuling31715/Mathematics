{
 "cells": [
  {
   "cell_type": "markdown",
   "metadata": {},
   "source": [
    "# RSA (16 bits)"
   ]
  },
  {
   "cell_type": "code",
   "execution_count": 1,
   "metadata": {},
   "outputs": [],
   "source": [
    "%matplotlib inline\n",
    "import matplotlib.pyplot as plt\n",
    "import numpy as np\n",
    "import sympy as sp\n",
    "import binascii\n",
    "import random"
   ]
  },
  {
   "cell_type": "markdown",
   "metadata": {},
   "source": [
    "### 轉碼"
   ]
  },
  {
   "cell_type": "code",
   "execution_count": 7,
   "metadata": {},
   "outputs": [],
   "source": [
    "def string_to_int(string):\n",
    "    byte = string.encode()               # string to byte\n",
    "    hexadecimal = binascii.hexlify(byte) # byte to hex\n",
    "    decimal = int(hexadecimal, 16)       # hex to dec\n",
    "    return decimal"
   ]
  },
  {
   "cell_type": "code",
   "execution_count": 8,
   "metadata": {},
   "outputs": [],
   "source": [
    "def int_to_string(int):\n",
    "    hexadecimal = hex(int)               # dec to hex\n",
    "    byte = hexadecimal[2:].encode()      # hex to byte (type)\n",
    "    byte = binascii.unhexlify(byte)      # hex to byte (coding)\n",
    "    string = byte.decode('utf-8')        # byte to utf-8 (支援中文)\n",
    "    return string"
   ]
  },
  {
   "cell_type": "code",
   "execution_count": 66,
   "metadata": {},
   "outputs": [
    {
     "name": "stdout",
     "output_type": "stream",
     "text": [
      "22405534230753928650781647905\n",
      "Hello World!\n"
     ]
    }
   ],
   "source": [
    "string = 'Hello World!'\n",
    "integer = string_to_int(string)\n",
    "print(integer)\n",
    "message = int_to_string(integer)\n",
    "print(message)"
   ]
  },
  {
   "cell_type": "code",
   "execution_count": 67,
   "metadata": {},
   "outputs": [
    {
     "name": "stdout",
     "output_type": "stream",
     "text": [
      "4219521822575238823041\n",
      "你好！\n"
     ]
    }
   ],
   "source": [
    "string = '你好！'\n",
    "integer = string_to_int(string)\n",
    "print(integer)\n",
    "message = int_to_string(integer)\n",
    "print(message)"
   ]
  },
  {
   "cell_type": "markdown",
   "metadata": {},
   "source": [
    "### 質因數分解"
   ]
  },
  {
   "cell_type": "code",
   "execution_count": 2,
   "metadata": {},
   "outputs": [],
   "source": [
    "def factorize(x):\n",
    "    is_prime = True\n",
    "    for i in sp.primerange(0, x ** 0.5):\n",
    "        if x % i == 0:\n",
    "            j = x // i\n",
    "            is_prime = False\n",
    "            return [i, j]\n",
    "    if is_prime:\n",
    "        return [0, x]"
   ]
  },
  {
   "cell_type": "code",
   "execution_count": 20,
   "metadata": {},
   "outputs": [],
   "source": [
    "def factorize_private_key(private_key):\n",
    "    private_key_fact_list = list()\n",
    "    if sp.isprime(private_key) == False: # private key 不是質數，可以分解        \n",
    "        fact = 1\n",
    "        while fact != 0:\n",
    "            fact, private_key = factorize(private_key)    \n",
    "            if fact != 0:\n",
    "                private_key_fact_list.append(fact)\n",
    "        private_key_fact_list.append(private_key)\n",
    "    else:\n",
    "        private_key_fact_list.append(private_key)\n",
    "    return private_key_fact_list"
   ]
  },
  {
   "cell_type": "code",
   "execution_count": 68,
   "metadata": {},
   "outputs": [
    {
     "data": {
      "text/plain": [
       "[2, 512]"
      ]
     },
     "execution_count": 68,
     "metadata": {},
     "output_type": "execute_result"
    }
   ],
   "source": [
    "factorize(2 ** 10)"
   ]
  },
  {
   "cell_type": "markdown",
   "metadata": {},
   "source": [
    "### 最大公因數"
   ]
  },
  {
   "cell_type": "code",
   "execution_count": 14,
   "metadata": {},
   "outputs": [],
   "source": [
    "def greatest_common_divisor(a, b):\n",
    "    if b == 0:\n",
    "        return a\n",
    "    else:\n",
    "        return greatest_common_divisor(b, a % b)"
   ]
  },
  {
   "cell_type": "markdown",
   "metadata": {},
   "source": [
    "### 歐拉函數"
   ]
  },
  {
   "cell_type": "code",
   "execution_count": 13,
   "metadata": {},
   "outputs": [],
   "source": [
    "def euler_function(p, q):\n",
    "    return (p - 1) * (q - 1)"
   ]
  },
  {
   "cell_type": "markdown",
   "metadata": {},
   "source": [
    "### 加密"
   ]
  },
  {
   "cell_type": "code",
   "execution_count": 15,
   "metadata": {},
   "outputs": [],
   "source": [
    "def encode(plaintext, public_key, n):\n",
    "    cyphertext = (plaintext ** public_key) % n    \n",
    "    return cyphertext"
   ]
  },
  {
   "cell_type": "markdown",
   "metadata": {},
   "source": [
    "### 解密"
   ]
  },
  {
   "cell_type": "code",
   "execution_count": 16,
   "metadata": {},
   "outputs": [],
   "source": [
    "def decode(cyphertext, private_key, n):\n",
    "    plaintext = (cyphertext ** private_key) % n\n",
    "    return plaintext"
   ]
  },
  {
   "cell_type": "code",
   "execution_count": 17,
   "metadata": {},
   "outputs": [],
   "source": [
    "def decode2(cyphertext, private_key_fact_list, n):\n",
    "    for i in private_key_fact_list:\n",
    "        cyphertext = (cyphertext ** i) % n\n",
    "    plaintext = cyphertext\n",
    "    return plaintext"
   ]
  },
  {
   "cell_type": "markdown",
   "metadata": {},
   "source": [
    "### 產生鑰匙"
   ]
  },
  {
   "cell_type": "code",
   "execution_count": 19,
   "metadata": {},
   "outputs": [],
   "source": [
    "def generate_key():\n",
    "    public_key, private_key = 0, 0\n",
    "    while (public_key == 0) or (private_key == 0):\n",
    "        prime = list(sp.primerange(10 ** 5, 10 ** 6))\n",
    "        p, q = random.choices(prime, k=2)\n",
    "        n = p * q\n",
    "        o = euler_function(p, q)\n",
    "        public_key, private_key = factorize(o * 10 + 1)\n",
    "        gcd = greatest_common_divisor(public_key, o)\n",
    "        remainder = public_key * private_key % o\n",
    "        print('gcd: %i' % gcd)\n",
    "        print('remainder: %i' % remainder)\n",
    "        if gcd == 1 and remainder == 1:\n",
    "            print('generate key succes\\n')\n",
    "            break\n",
    "        else:\n",
    "            print('generate key fail\\n')\n",
    "    return p, q, public_key, private_key, n"
   ]
  },
  {
   "cell_type": "code",
   "execution_count": 20,
   "metadata": {},
   "outputs": [],
   "source": [
    "def factorize_private_key(private_key):\n",
    "    private_key_fact_list = list()\n",
    "    if sp.isprime(private_key) == False: # private key 不是質數，可以分解        \n",
    "        fact = 1\n",
    "        while fact != 0:\n",
    "            fact, private_key = factorize(private_key)    \n",
    "            if fact != 0:\n",
    "                private_key_fact_list.append(fact)\n",
    "        private_key_fact_list.append(private_key)\n",
    "    else:\n",
    "        private_key_fact_list.append(private_key)\n",
    "    return private_key_fact_list"
   ]
  },
  {
   "cell_type": "code",
   "execution_count": 21,
   "metadata": {},
   "outputs": [
    {
     "name": "stdout",
     "output_type": "stream",
     "text": [
      "gcd: 1\n",
      "remainder: 1\n",
      "generate key succes\n",
      "\n",
      "p: 997201\n",
      "q: 674677\n",
      "public key: 7\n",
      "private key: 961124153143\n",
      "n: 672788579077\n"
     ]
    }
   ],
   "source": [
    "p, q, public_key, private_key, n = generate_key()\n",
    "print('p: %i' % p)\n",
    "print('q: %i' % q)\n",
    "print('public key: %i' % public_key)\n",
    "print('private key: %i' % private_key)\n",
    "print('n: %i' % n)"
   ]
  },
  {
   "cell_type": "code",
   "execution_count": 22,
   "metadata": {},
   "outputs": [
    {
     "name": "stdout",
     "output_type": "stream",
     "text": [
      "[7, 11, 251, 283, 175723]\n"
     ]
    }
   ],
   "source": [
    "private_key_fact_list = factorize_private_key(private_key)\n",
    "print(private_key_fact_list)"
   ]
  },
  {
   "cell_type": "code",
   "execution_count": 48,
   "metadata": {},
   "outputs": [],
   "source": [
    "plaintext = '呵'"
   ]
  },
  {
   "cell_type": "code",
   "execution_count": 49,
   "metadata": {},
   "outputs": [
    {
     "name": "stdout",
     "output_type": "stream",
     "text": [
      "15045045\n"
     ]
    }
   ],
   "source": [
    "plaintext = string_to_int(plaintext)\n",
    "print(plaintext)"
   ]
  },
  {
   "cell_type": "code",
   "execution_count": 50,
   "metadata": {},
   "outputs": [
    {
     "name": "stdout",
     "output_type": "stream",
     "text": [
      "609975778579\n"
     ]
    }
   ],
   "source": [
    "cyphertext = encode(plaintext, public_key, n)\n",
    "print(cyphertext)"
   ]
  },
  {
   "cell_type": "code",
   "execution_count": 51,
   "metadata": {},
   "outputs": [
    {
     "name": "stdout",
     "output_type": "stream",
     "text": [
      "15045045\n"
     ]
    }
   ],
   "source": [
    "message = decode2(cyphertext, private_key_fact_list, n)\n",
    "print(message)"
   ]
  },
  {
   "cell_type": "code",
   "execution_count": 52,
   "metadata": {},
   "outputs": [
    {
     "name": "stdout",
     "output_type": "stream",
     "text": [
      "呵\n"
     ]
    }
   ],
   "source": [
    "message = int_to_string(message)\n",
    "print(message)"
   ]
  },
  {
   "cell_type": "code",
   "execution_count": null,
   "metadata": {},
   "outputs": [],
   "source": []
  }
 ],
 "metadata": {
  "kernelspec": {
   "display_name": "py3.6",
   "language": "python",
   "name": "py3.6"
  },
  "language_info": {
   "codemirror_mode": {
    "name": "ipython",
    "version": 3
   },
   "file_extension": ".py",
   "mimetype": "text/x-python",
   "name": "python",
   "nbconvert_exporter": "python",
   "pygments_lexer": "ipython3",
   "version": "3.6.0"
  }
 },
 "nbformat": 4,
 "nbformat_minor": 2
}
